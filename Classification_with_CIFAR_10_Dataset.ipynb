{
  "nbformat": 4,
  "nbformat_minor": 0,
  "metadata": {
    "colab": {
      "name": "Classification with CIFAR-10 Dataset.ipynb",
      "provenance": [],
      "collapsed_sections": []
    },
    "kernelspec": {
      "name": "python3",
      "display_name": "Python 3"
    },
    "language_info": {
      "name": "python"
    }
  },
  "cells": [
    {
      "cell_type": "code",
      "metadata": {
        "id": "8DggUWd3toeV"
      },
      "source": [
        "from tensorflow import keras"
      ],
      "execution_count": 1,
      "outputs": []
    },
    {
      "cell_type": "code",
      "metadata": {
        "colab": {
          "base_uri": "https://localhost:8080/"
        },
        "id": "iitCH46Stsi9",
        "outputId": "006b2255-4519-4635-fe32-1abde6bf6985"
      },
      "source": [
        "#import data\n",
        "(train_images,train_labels),(test_images,test_labels) = keras.datasets.cifar10.load_data()"
      ],
      "execution_count": 2,
      "outputs": [
        {
          "output_type": "stream",
          "name": "stdout",
          "text": [
            "Downloading data from https://www.cs.toronto.edu/~kriz/cifar-10-python.tar.gz\n",
            "170500096/170498071 [==============================] - 3s 0us/step\n",
            "170508288/170498071 [==============================] - 3s 0us/step\n"
          ]
        }
      ]
    },
    {
      "cell_type": "code",
      "metadata": {
        "id": "6oGOP47PtxhL"
      },
      "source": [
        "#scaling\n",
        "train_images, test_images = train_images / 255, test_images / 255"
      ],
      "execution_count": 3,
      "outputs": []
    },
    {
      "cell_type": "code",
      "metadata": {
        "id": "ma6Vi5i2t1aT"
      },
      "source": [
        "from keras import layers, models, losses"
      ],
      "execution_count": 4,
      "outputs": []
    },
    {
      "cell_type": "code",
      "metadata": {
        "id": "AUxQEO9ot6nB"
      },
      "source": [
        "#Create model\n",
        "model = models.Sequential()"
      ],
      "execution_count": 5,
      "outputs": []
    },
    {
      "cell_type": "code",
      "metadata": {
        "id": "CrJGPHjRt9Kb"
      },
      "source": [
        "#Create CNN Layers\n",
        "model.add(layers.Conv2D(32,(3,3),activation=\"relu\",input_shape=(32,32,3)))\n",
        "model.add(layers.MaxPooling2D())\n",
        "model.add(layers.Conv2D(64,(3,3),activation=\"relu\"))\n",
        "model.add(layers.MaxPooling2D())\n",
        "model.add(layers.Conv2D(64,(3,3),activation=\"relu\"))"
      ],
      "execution_count": 6,
      "outputs": []
    },
    {
      "cell_type": "code",
      "metadata": {
        "id": "JCetxbtSt-IV"
      },
      "source": [
        "#Create Dense Layers\n",
        "model.add(layers.Flatten())\n",
        "model.add(layers.Dense(64,activation=\"relu\"))\n",
        "model.add(layers.Dense(10))"
      ],
      "execution_count": 7,
      "outputs": []
    },
    {
      "cell_type": "code",
      "metadata": {
        "id": "UpI2HO7DuA6a"
      },
      "source": [
        "#Compile Model\n",
        "model.compile(optimizer=\"adam\",\n",
        "              loss=losses.SparseCategoricalCrossentropy(from_logits=True),\n",
        "              metrics=[\"accuracy\"])"
      ],
      "execution_count": 9,
      "outputs": []
    },
    {
      "cell_type": "code",
      "metadata": {
        "id": "3bkPJzsGuFo2"
      },
      "source": [
        "from keras.preprocessing.image import ImageDataGenerator"
      ],
      "execution_count": 10,
      "outputs": []
    },
    {
      "cell_type": "code",
      "metadata": {
        "id": "ivNnt1KruIAo"
      },
      "source": [
        "# To increase our input data we use Image Augmentation\n",
        "datagen = ImageDataGenerator(\n",
        "    rotation_range=40,\n",
        "    width_shift_range=0.2,\n",
        "    height_shift_range=0.2,\n",
        "    shear_range=0.2,\n",
        "    zoom_range=0.2,\n",
        "    horizontal_flip=True,\n",
        "    fill_mode='nearest'\n",
        ")"
      ],
      "execution_count": 11,
      "outputs": []
    },
    {
      "cell_type": "code",
      "metadata": {
        "id": "DS_QMfKouKYB"
      },
      "source": [
        "# Fit the train_images to datagen\n",
        "datagen.fit(train_images)"
      ],
      "execution_count": 12,
      "outputs": []
    },
    {
      "cell_type": "code",
      "metadata": {
        "colab": {
          "base_uri": "https://localhost:8080/"
        },
        "id": "XklbOOmAuMo5",
        "outputId": "1ca50e0b-c1e8-4c17-f07d-ed585788a40c"
      },
      "source": [
        "#Fit the model with datagen\n",
        "model.fit(datagen.flow(train_images, train_labels), \n",
        "          batch_size= 32, steps_per_epoch=len(train_images)/32,\n",
        "          epochs=25, verbose=1)"
      ],
      "execution_count": 13,
      "outputs": [
        {
          "output_type": "stream",
          "name": "stdout",
          "text": [
            "Epoch 1/25\n",
            "1562/1562 [==============================] - 86s 55ms/step - loss: 1.8154 - accuracy: 0.1066\n",
            "Epoch 2/25\n",
            "1562/1562 [==============================] - 85s 54ms/step - loss: 1.5755 - accuracy: 0.0947\n",
            "Epoch 3/25\n",
            "1562/1562 [==============================] - 84s 54ms/step - loss: 1.4726 - accuracy: 0.0943\n",
            "Epoch 4/25\n",
            "1562/1562 [==============================] - 85s 54ms/step - loss: 1.4007 - accuracy: 0.0940\n",
            "Epoch 5/25\n",
            "1562/1562 [==============================] - 85s 54ms/step - loss: 1.3613 - accuracy: 0.0960\n",
            "Epoch 6/25\n",
            "1562/1562 [==============================] - 84s 54ms/step - loss: 1.3183 - accuracy: 0.0980\n",
            "Epoch 7/25\n",
            "1562/1562 [==============================] - 84s 54ms/step - loss: 1.2826 - accuracy: 0.0971\n",
            "Epoch 8/25\n",
            "1562/1562 [==============================] - 84s 54ms/step - loss: 1.2559 - accuracy: 0.0986\n",
            "Epoch 9/25\n",
            "1562/1562 [==============================] - 84s 54ms/step - loss: 1.2355 - accuracy: 0.0987\n",
            "Epoch 10/25\n",
            "1562/1562 [==============================] - 84s 54ms/step - loss: 1.2146 - accuracy: 0.0983\n",
            "Epoch 11/25\n",
            "1562/1562 [==============================] - 85s 54ms/step - loss: 1.1977 - accuracy: 0.0992\n",
            "Epoch 12/25\n",
            "1562/1562 [==============================] - 85s 54ms/step - loss: 1.1813 - accuracy: 0.1013\n",
            "Epoch 13/25\n",
            "1562/1562 [==============================] - 85s 54ms/step - loss: 1.1689 - accuracy: 0.1006\n",
            "Epoch 14/25\n",
            "1562/1562 [==============================] - 85s 54ms/step - loss: 1.1550 - accuracy: 0.1003\n",
            "Epoch 15/25\n",
            "1562/1562 [==============================] - 84s 54ms/step - loss: 1.1451 - accuracy: 0.0997\n",
            "Epoch 16/25\n",
            "1562/1562 [==============================] - 85s 54ms/step - loss: 1.1388 - accuracy: 0.0996\n",
            "Epoch 17/25\n",
            "1562/1562 [==============================] - 85s 54ms/step - loss: 1.1209 - accuracy: 0.0996\n",
            "Epoch 18/25\n",
            "1562/1562 [==============================] - 85s 55ms/step - loss: 1.1154 - accuracy: 0.1024\n",
            "Epoch 19/25\n",
            "1562/1562 [==============================] - 86s 55ms/step - loss: 1.1076 - accuracy: 0.1004\n",
            "Epoch 20/25\n",
            "1562/1562 [==============================] - 87s 56ms/step - loss: 1.0952 - accuracy: 0.0998\n",
            "Epoch 21/25\n",
            "1562/1562 [==============================] - 86s 55ms/step - loss: 1.0835 - accuracy: 0.1011\n",
            "Epoch 22/25\n",
            "1562/1562 [==============================] - 86s 55ms/step - loss: 1.0763 - accuracy: 0.1005\n",
            "Epoch 23/25\n",
            "1562/1562 [==============================] - 86s 55ms/step - loss: 1.0779 - accuracy: 0.1010\n",
            "Epoch 24/25\n",
            "1562/1562 [==============================] - 85s 54ms/step - loss: 1.0693 - accuracy: 0.1022\n",
            "Epoch 25/25\n",
            "1562/1562 [==============================] - 85s 54ms/step - loss: 1.0601 - accuracy: 0.1020\n"
          ]
        },
        {
          "output_type": "execute_result",
          "data": {
            "text/plain": [
              "<keras.callbacks.History at 0x7f615e073fd0>"
            ]
          },
          "metadata": {},
          "execution_count": 13
        }
      ]
    },
    {
      "cell_type": "code",
      "metadata": {
        "colab": {
          "base_uri": "https://localhost:8080/"
        },
        "id": "lqE0mThP_TY5",
        "outputId": "82dfd1ba-79b2-4bc0-a656-6c64f305df03"
      },
      "source": [
        "#evaluate the model and get loss with accuracy metric\n",
        "loss = model.evaluate(datagen.flow(test_images, test_labels),batch_size=32)"
      ],
      "execution_count": 14,
      "outputs": [
        {
          "output_type": "stream",
          "name": "stdout",
          "text": [
            "313/313 [==============================] - 9s 27ms/step - loss: 1.0676 - accuracy: 0.1148\n"
          ]
        }
      ]
    },
    {
      "cell_type": "code",
      "metadata": {
        "id": "vchHRLCc_WwQ"
      },
      "source": [
        "prediction = model.predict(test_images)"
      ],
      "execution_count": 15,
      "outputs": []
    },
    {
      "cell_type": "code",
      "metadata": {
        "id": "wl0G6fZY_aZs"
      },
      "source": [
        "import matplotlib.pyplot as plt\n",
        "import numpy as np"
      ],
      "execution_count": 16,
      "outputs": []
    },
    {
      "cell_type": "code",
      "metadata": {
        "id": "2t8SMrkw_cmU"
      },
      "source": [
        "class_names=[\"airplane\",\"automobile\",\"bird\",\"cat\",\n",
        "             \"deer\",\"dog\",\"frog\",\"horse\",\"ship\",\"truck\"]"
      ],
      "execution_count": 17,
      "outputs": []
    },
    {
      "cell_type": "code",
      "metadata": {
        "colab": {
          "base_uri": "https://localhost:8080/",
          "height": 321
        },
        "id": "Yes9C5ux_erG",
        "outputId": "9ef209a1-2abd-45ae-a8ae-41c272b66263"
      },
      "source": [
        "INDEX=\"\"\n",
        "while INDEX.isdigit() == False:\n",
        "  INDEX = input(\"Lütfen tahmin gerçekleştirmek istediğiniz indeksi girin: \")\n",
        "  if int(INDEX)>=len(test_images):\n",
        "    INDEX=\"\"\n",
        "\n",
        "INDEX = int(INDEX)\n",
        "\n",
        "predicted_value=class_names[np.argmax(prediction[INDEX])]\n",
        "actual_value= class_names[test_labels[INDEX][0]]\n",
        "\n",
        "print(f\"Real Value: {actual_value} - Predicted Value: {predicted_value}\")\n",
        "plt.figure()\n",
        "plt.imshow(test_images[INDEX])"
      ],
      "execution_count": 18,
      "outputs": [
        {
          "output_type": "stream",
          "name": "stdout",
          "text": [
            "Lütfen tahmin gerçekleştirmek istediğiniz indeksi girin: 7\n",
            "Real Value: frog - Predicted Value: frog\n"
          ]
        },
        {
          "output_type": "execute_result",
          "data": {
            "text/plain": [
              "<matplotlib.image.AxesImage at 0x7f615a727190>"
            ]
          },
          "metadata": {},
          "execution_count": 18
        },
        {
          "output_type": "display_data",
          "data": {
            "image/png": "[encoded data removed]",
            "text/plain": [
              "<Figure size 432x288 with 1 Axes>"
            ]
          },
          "metadata": {
            "needs_background": "light"
          }
        }
      ]
    }
  ]
}